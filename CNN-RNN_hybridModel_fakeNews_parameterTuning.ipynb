{
 "cells": [
  {
   "cell_type": "code",
   "execution_count": 1,
   "metadata": {},
   "outputs": [],
   "source": [
    "# Import necessary modules, libraries, etc. \n",
    "import re # For regular expressions \n",
    "import os #\n",
    "import pathlib # \n",
    "import time # For generating runtime\n",
    "import numpy as np # For linear algebra\n",
    "import pandas as pd # For processing data\n",
    "import matplotlib\n",
    "from matplotlib.offsetbox import AnchoredText\n",
    "import matplotlib.pyplot as plt\n",
    "import tensorflow as tf # For deep machine learning models\n",
    "from tensorflow import keras # For deep machine learning models\n",
    "import keras_tuner as kt # For tuning neural network hyperparameters  \n",
    "from keras.models import Sequential # For buidling NN model\n",
    "from keras.layers import Dense, Conv1D, MaxPooling1D # For building NN model\n",
    "from keras.layers import LSTM, Dropout # For building NN model\n",
    "from keras.layers import Embedding, TextVectorization # For building NN model and vectorizing text\n",
    "from keras.preprocessing import sequence\n",
    "from keras.optimizers import Adam\n",
    "from keras.callbacks import ModelCheckpoint\n",
    "import nltk # for natural language processing\n",
    "from nltk.corpus import stopwords # for removing english stopwords\n",
    "from nltk.stem import WordNetLemmatizer # for term stemming\n",
    "from prettytable import PrettyTable # For data visualization\n",
    "import sklearn # for predictive data analysis\n",
    "from sklearn.model_selection import train_test_split # Split data into train and test sets\n",
    "from tabulate import tabulate # for converting lists/dictionaries into nice tables\n",
    "from IPython.core.interactiveshell import InteractiveShell # to modify Jupyter notebook configuration\n",
    "InteractiveShell.ast_node_interactivity = \"all\" # so that all outputs in a cell are returned (instead of last instance)"
   ]
  },
  {
   "cell_type": "code",
   "execution_count": 2,
   "metadata": {},
   "outputs": [
    {
     "name": "stdout",
     "output_type": "stream",
     "text": [
      "Compare number of observations in true news and fake news data frames\n"
     ]
    },
    {
     "data": {
      "text/plain": [
       "1    21417\n",
       "Name: target, dtype: int64"
      ]
     },
     "execution_count": 2,
     "metadata": {},
     "output_type": "execute_result"
    },
    {
     "name": "stdout",
     "output_type": "stream",
     "text": [
      "\n"
     ]
    },
    {
     "data": {
      "text/plain": [
       "0    23481\n",
       "Name: target, dtype: int64"
      ]
     },
     "execution_count": 2,
     "metadata": {},
     "output_type": "execute_result"
    },
    {
     "name": "stdout",
     "output_type": "stream",
     "text": [
      "\n"
     ]
    }
   ],
   "source": [
    "# Load the fake and true news CSVs into Pandas dataframes\n",
    "true_news = pd.read_csv('True.csv') \n",
    "fake_news = pd.read_csv('Fake.csv')\n",
    "\n",
    "# Add column for fake/true target (true == 1, false == 0)\n",
    "true_news['target'] = 1\n",
    "fake_news['target'] = 0\n",
    "\n",
    "# True and Fake news value counts - are they balanced?\n",
    "print(\"Compare number of observations in true news and fake news data frames\")\n",
    "true_news['target'].value_counts()\n",
    "print()\n",
    "fake_news['target'].value_counts()\n",
    "print()"
   ]
  },
  {
   "cell_type": "code",
   "execution_count": 3,
   "metadata": {},
   "outputs": [
    {
     "name": "stdout",
     "output_type": "stream",
     "text": [
      "True and fake datasets should have same number of samples now...\n"
     ]
    },
    {
     "data": {
      "text/plain": [
       "1    21417\n",
       "Name: target, dtype: int64"
      ]
     },
     "execution_count": 3,
     "metadata": {},
     "output_type": "execute_result"
    },
    {
     "name": "stdout",
     "output_type": "stream",
     "text": [
      "\n"
     ]
    },
    {
     "data": {
      "text/plain": [
       "0    21417\n",
       "Name: target, dtype: int64"
      ]
     },
     "execution_count": 3,
     "metadata": {},
     "output_type": "execute_result"
    },
    {
     "name": "stdout",
     "output_type": "stream",
     "text": [
      "\n",
      "Preview of the raw datasets to ensure they imported properly:\n"
     ]
    },
    {
     "data": {
      "text/html": [
       "<div>\n",
       "<style scoped>\n",
       "    .dataframe tbody tr th:only-of-type {\n",
       "        vertical-align: middle;\n",
       "    }\n",
       "\n",
       "    .dataframe tbody tr th {\n",
       "        vertical-align: top;\n",
       "    }\n",
       "\n",
       "    .dataframe thead th {\n",
       "        text-align: right;\n",
       "    }\n",
       "</style>\n",
       "<table border=\"1\" class=\"dataframe\">\n",
       "  <thead>\n",
       "    <tr style=\"text-align: right;\">\n",
       "      <th></th>\n",
       "      <th>title</th>\n",
       "      <th>text</th>\n",
       "      <th>subject</th>\n",
       "      <th>date</th>\n",
       "      <th>target</th>\n",
       "    </tr>\n",
       "  </thead>\n",
       "  <tbody>\n",
       "    <tr>\n",
       "      <th>0</th>\n",
       "      <td>As U.S. budget fight looms, Republicans flip t...</td>\n",
       "      <td>WASHINGTON (Reuters) - The head of a conservat...</td>\n",
       "      <td>politicsNews</td>\n",
       "      <td>December 31, 2017</td>\n",
       "      <td>1</td>\n",
       "    </tr>\n",
       "    <tr>\n",
       "      <th>1</th>\n",
       "      <td>U.S. military to accept transgender recruits o...</td>\n",
       "      <td>WASHINGTON (Reuters) - Transgender people will...</td>\n",
       "      <td>politicsNews</td>\n",
       "      <td>December 29, 2017</td>\n",
       "      <td>1</td>\n",
       "    </tr>\n",
       "    <tr>\n",
       "      <th>2</th>\n",
       "      <td>Senior U.S. Republican senator: 'Let Mr. Muell...</td>\n",
       "      <td>WASHINGTON (Reuters) - The special counsel inv...</td>\n",
       "      <td>politicsNews</td>\n",
       "      <td>December 31, 2017</td>\n",
       "      <td>1</td>\n",
       "    </tr>\n",
       "    <tr>\n",
       "      <th>3</th>\n",
       "      <td>FBI Russia probe helped by Australian diplomat...</td>\n",
       "      <td>WASHINGTON (Reuters) - Trump campaign adviser ...</td>\n",
       "      <td>politicsNews</td>\n",
       "      <td>December 30, 2017</td>\n",
       "      <td>1</td>\n",
       "    </tr>\n",
       "    <tr>\n",
       "      <th>4</th>\n",
       "      <td>Trump wants Postal Service to charge 'much mor...</td>\n",
       "      <td>SEATTLE/WASHINGTON (Reuters) - President Donal...</td>\n",
       "      <td>politicsNews</td>\n",
       "      <td>December 29, 2017</td>\n",
       "      <td>1</td>\n",
       "    </tr>\n",
       "    <tr>\n",
       "      <th>...</th>\n",
       "      <td>...</td>\n",
       "      <td>...</td>\n",
       "      <td>...</td>\n",
       "      <td>...</td>\n",
       "      <td>...</td>\n",
       "    </tr>\n",
       "    <tr>\n",
       "      <th>21407</th>\n",
       "      <td>Mata Pires, owner of embattled Brazil builder ...</td>\n",
       "      <td>SAO PAULO (Reuters) - Cesar Mata Pires, the ow...</td>\n",
       "      <td>worldnews</td>\n",
       "      <td>August 22, 2017</td>\n",
       "      <td>1</td>\n",
       "    </tr>\n",
       "    <tr>\n",
       "      <th>21408</th>\n",
       "      <td>U.S., North Korea clash at U.N. forum over nuc...</td>\n",
       "      <td>GENEVA (Reuters) - North Korea and the United ...</td>\n",
       "      <td>worldnews</td>\n",
       "      <td>August 22, 2017</td>\n",
       "      <td>1</td>\n",
       "    </tr>\n",
       "    <tr>\n",
       "      <th>21409</th>\n",
       "      <td>U.S., North Korea clash at U.N. arms forum on ...</td>\n",
       "      <td>GENEVA (Reuters) - North Korea and the United ...</td>\n",
       "      <td>worldnews</td>\n",
       "      <td>August 22, 2017</td>\n",
       "      <td>1</td>\n",
       "    </tr>\n",
       "    <tr>\n",
       "      <th>21410</th>\n",
       "      <td>Headless torso could belong to submarine journ...</td>\n",
       "      <td>COPENHAGEN (Reuters) - Danish police said on T...</td>\n",
       "      <td>worldnews</td>\n",
       "      <td>August 22, 2017</td>\n",
       "      <td>1</td>\n",
       "    </tr>\n",
       "    <tr>\n",
       "      <th>21411</th>\n",
       "      <td>North Korea shipments to Syria chemical arms a...</td>\n",
       "      <td>UNITED NATIONS (Reuters) - Two North Korean sh...</td>\n",
       "      <td>worldnews</td>\n",
       "      <td>August 21, 2017</td>\n",
       "      <td>1</td>\n",
       "    </tr>\n",
       "  </tbody>\n",
       "</table>\n",
       "<p>21412 rows × 5 columns</p>\n",
       "</div>"
      ],
      "text/plain": [
       "                                                   title  \\\n",
       "0      As U.S. budget fight looms, Republicans flip t...   \n",
       "1      U.S. military to accept transgender recruits o...   \n",
       "2      Senior U.S. Republican senator: 'Let Mr. Muell...   \n",
       "3      FBI Russia probe helped by Australian diplomat...   \n",
       "4      Trump wants Postal Service to charge 'much mor...   \n",
       "...                                                  ...   \n",
       "21407  Mata Pires, owner of embattled Brazil builder ...   \n",
       "21408  U.S., North Korea clash at U.N. forum over nuc...   \n",
       "21409  U.S., North Korea clash at U.N. arms forum on ...   \n",
       "21410  Headless torso could belong to submarine journ...   \n",
       "21411  North Korea shipments to Syria chemical arms a...   \n",
       "\n",
       "                                                    text       subject  \\\n",
       "0      WASHINGTON (Reuters) - The head of a conservat...  politicsNews   \n",
       "1      WASHINGTON (Reuters) - Transgender people will...  politicsNews   \n",
       "2      WASHINGTON (Reuters) - The special counsel inv...  politicsNews   \n",
       "3      WASHINGTON (Reuters) - Trump campaign adviser ...  politicsNews   \n",
       "4      SEATTLE/WASHINGTON (Reuters) - President Donal...  politicsNews   \n",
       "...                                                  ...           ...   \n",
       "21407  SAO PAULO (Reuters) - Cesar Mata Pires, the ow...     worldnews   \n",
       "21408  GENEVA (Reuters) - North Korea and the United ...     worldnews   \n",
       "21409  GENEVA (Reuters) - North Korea and the United ...     worldnews   \n",
       "21410  COPENHAGEN (Reuters) - Danish police said on T...     worldnews   \n",
       "21411  UNITED NATIONS (Reuters) - Two North Korean sh...     worldnews   \n",
       "\n",
       "                     date  target  \n",
       "0      December 31, 2017        1  \n",
       "1      December 29, 2017        1  \n",
       "2      December 31, 2017        1  \n",
       "3      December 30, 2017        1  \n",
       "4      December 29, 2017        1  \n",
       "...                   ...     ...  \n",
       "21407    August 22, 2017        1  \n",
       "21408    August 22, 2017        1  \n",
       "21409    August 22, 2017        1  \n",
       "21410    August 22, 2017        1  \n",
       "21411    August 21, 2017        1  \n",
       "\n",
       "[21412 rows x 5 columns]"
      ]
     },
     "execution_count": 3,
     "metadata": {},
     "output_type": "execute_result"
    },
    {
     "name": "stdout",
     "output_type": "stream",
     "text": [
      "\n"
     ]
    },
    {
     "data": {
      "text/html": [
       "<div>\n",
       "<style scoped>\n",
       "    .dataframe tbody tr th:only-of-type {\n",
       "        vertical-align: middle;\n",
       "    }\n",
       "\n",
       "    .dataframe tbody tr th {\n",
       "        vertical-align: top;\n",
       "    }\n",
       "\n",
       "    .dataframe thead th {\n",
       "        text-align: right;\n",
       "    }\n",
       "</style>\n",
       "<table border=\"1\" class=\"dataframe\">\n",
       "  <thead>\n",
       "    <tr style=\"text-align: right;\">\n",
       "      <th></th>\n",
       "      <th>title</th>\n",
       "      <th>text</th>\n",
       "      <th>subject</th>\n",
       "      <th>date</th>\n",
       "      <th>target</th>\n",
       "    </tr>\n",
       "  </thead>\n",
       "  <tbody>\n",
       "    <tr>\n",
       "      <th>0</th>\n",
       "      <td>Donald Trump Sends Out Embarrassing New Year’...</td>\n",
       "      <td>Donald Trump just couldn t wish all Americans ...</td>\n",
       "      <td>News</td>\n",
       "      <td>December 31, 2017</td>\n",
       "      <td>0</td>\n",
       "    </tr>\n",
       "    <tr>\n",
       "      <th>1</th>\n",
       "      <td>Drunk Bragging Trump Staffer Started Russian ...</td>\n",
       "      <td>House Intelligence Committee Chairman Devin Nu...</td>\n",
       "      <td>News</td>\n",
       "      <td>December 31, 2017</td>\n",
       "      <td>0</td>\n",
       "    </tr>\n",
       "    <tr>\n",
       "      <th>2</th>\n",
       "      <td>Sheriff David Clarke Becomes An Internet Joke...</td>\n",
       "      <td>On Friday, it was revealed that former Milwauk...</td>\n",
       "      <td>News</td>\n",
       "      <td>December 30, 2017</td>\n",
       "      <td>0</td>\n",
       "    </tr>\n",
       "    <tr>\n",
       "      <th>3</th>\n",
       "      <td>Trump Is So Obsessed He Even Has Obama’s Name...</td>\n",
       "      <td>On Christmas day, Donald Trump announced that ...</td>\n",
       "      <td>News</td>\n",
       "      <td>December 29, 2017</td>\n",
       "      <td>0</td>\n",
       "    </tr>\n",
       "    <tr>\n",
       "      <th>4</th>\n",
       "      <td>Pope Francis Just Called Out Donald Trump Dur...</td>\n",
       "      <td>Pope Francis used his annual Christmas Day mes...</td>\n",
       "      <td>News</td>\n",
       "      <td>December 25, 2017</td>\n",
       "      <td>0</td>\n",
       "    </tr>\n",
       "    <tr>\n",
       "      <th>...</th>\n",
       "      <td>...</td>\n",
       "      <td>...</td>\n",
       "      <td>...</td>\n",
       "      <td>...</td>\n",
       "      <td>...</td>\n",
       "    </tr>\n",
       "    <tr>\n",
       "      <th>23471</th>\n",
       "      <td>Seven Iranians freed in the prisoner swap have...</td>\n",
       "      <td>21st Century Wire says This week, the historic...</td>\n",
       "      <td>Middle-east</td>\n",
       "      <td>January 20, 2016</td>\n",
       "      <td>0</td>\n",
       "    </tr>\n",
       "    <tr>\n",
       "      <th>23472</th>\n",
       "      <td>#Hashtag Hell &amp; The Fake Left</td>\n",
       "      <td>By Dady Chery and Gilbert MercierAll writers ...</td>\n",
       "      <td>Middle-east</td>\n",
       "      <td>January 19, 2016</td>\n",
       "      <td>0</td>\n",
       "    </tr>\n",
       "    <tr>\n",
       "      <th>23473</th>\n",
       "      <td>Astroturfing: Journalist Reveals Brainwashing ...</td>\n",
       "      <td>Vic Bishop Waking TimesOur reality is carefull...</td>\n",
       "      <td>Middle-east</td>\n",
       "      <td>January 19, 2016</td>\n",
       "      <td>0</td>\n",
       "    </tr>\n",
       "    <tr>\n",
       "      <th>23474</th>\n",
       "      <td>The New American Century: An Era of Fraud</td>\n",
       "      <td>Paul Craig RobertsIn the last years of the 20t...</td>\n",
       "      <td>Middle-east</td>\n",
       "      <td>January 19, 2016</td>\n",
       "      <td>0</td>\n",
       "    </tr>\n",
       "    <tr>\n",
       "      <th>23475</th>\n",
       "      <td>Hillary Clinton: ‘Israel First’ (and no peace ...</td>\n",
       "      <td>Robert Fantina CounterpunchAlthough the United...</td>\n",
       "      <td>Middle-east</td>\n",
       "      <td>January 18, 2016</td>\n",
       "      <td>0</td>\n",
       "    </tr>\n",
       "  </tbody>\n",
       "</table>\n",
       "<p>21412 rows × 5 columns</p>\n",
       "</div>"
      ],
      "text/plain": [
       "                                                   title  \\\n",
       "0       Donald Trump Sends Out Embarrassing New Year’...   \n",
       "1       Drunk Bragging Trump Staffer Started Russian ...   \n",
       "2       Sheriff David Clarke Becomes An Internet Joke...   \n",
       "3       Trump Is So Obsessed He Even Has Obama’s Name...   \n",
       "4       Pope Francis Just Called Out Donald Trump Dur...   \n",
       "...                                                  ...   \n",
       "23471  Seven Iranians freed in the prisoner swap have...   \n",
       "23472                      #Hashtag Hell & The Fake Left   \n",
       "23473  Astroturfing: Journalist Reveals Brainwashing ...   \n",
       "23474          The New American Century: An Era of Fraud   \n",
       "23475  Hillary Clinton: ‘Israel First’ (and no peace ...   \n",
       "\n",
       "                                                    text      subject  \\\n",
       "0      Donald Trump just couldn t wish all Americans ...         News   \n",
       "1      House Intelligence Committee Chairman Devin Nu...         News   \n",
       "2      On Friday, it was revealed that former Milwauk...         News   \n",
       "3      On Christmas day, Donald Trump announced that ...         News   \n",
       "4      Pope Francis used his annual Christmas Day mes...         News   \n",
       "...                                                  ...          ...   \n",
       "23471  21st Century Wire says This week, the historic...  Middle-east   \n",
       "23472   By Dady Chery and Gilbert MercierAll writers ...  Middle-east   \n",
       "23473  Vic Bishop Waking TimesOur reality is carefull...  Middle-east   \n",
       "23474  Paul Craig RobertsIn the last years of the 20t...  Middle-east   \n",
       "23475  Robert Fantina CounterpunchAlthough the United...  Middle-east   \n",
       "\n",
       "                    date  target  \n",
       "0      December 31, 2017       0  \n",
       "1      December 31, 2017       0  \n",
       "2      December 30, 2017       0  \n",
       "3      December 29, 2017       0  \n",
       "4      December 25, 2017       0  \n",
       "...                  ...     ...  \n",
       "23471   January 20, 2016       0  \n",
       "23472   January 19, 2016       0  \n",
       "23473   January 19, 2016       0  \n",
       "23474   January 19, 2016       0  \n",
       "23475   January 18, 2016       0  \n",
       "\n",
       "[21412 rows x 5 columns]"
      ]
     },
     "execution_count": 3,
     "metadata": {},
     "output_type": "execute_result"
    },
    {
     "name": "stdout",
     "output_type": "stream",
     "text": [
      "\n"
     ]
    }
   ],
   "source": [
    "# Remove random rows from fake_news (n = 2064) data frame so it has same number of rows as true_news\n",
    "np.random.seed(5)\n",
    "remove_n = 2064\n",
    "drop_indices = np.random.choice(fake_news.index, remove_n, replace = False)\n",
    "fake_news = fake_news.drop(drop_indices)\n",
    "\n",
    "# Check that have same number of observations now\n",
    "print(\"True and fake datasets should have same number of samples now...\")\n",
    "true_news['target'].value_counts()\n",
    "print()\n",
    "fake_news['target'].value_counts()\n",
    "print()\n",
    "\n",
    "# Preview first and last 5 rows in datasets to ensure they imported properly\n",
    "print(\"Preview of the raw datasets to ensure they imported properly:\")\n",
    "true_news.head(-5)\n",
    "print()\n",
    "fake_news.head(-5)\n",
    "print()"
   ]
  },
  {
   "cell_type": "code",
   "execution_count": 4,
   "metadata": {},
   "outputs": [
    {
     "name": "stdout",
     "output_type": "stream",
     "text": [
      "Dimensions of data frame that will be cleaned:\n"
     ]
    },
    {
     "data": {
      "text/plain": [
       "(42834, 2)"
      ]
     },
     "execution_count": 4,
     "metadata": {},
     "output_type": "execute_result"
    },
    {
     "name": "stdout",
     "output_type": "stream",
     "text": [
      "\n",
      "First and last five rows of pre-cleaned concatenated dataset:\n"
     ]
    },
    {
     "data": {
      "text/html": [
       "<div>\n",
       "<style scoped>\n",
       "    .dataframe tbody tr th:only-of-type {\n",
       "        vertical-align: middle;\n",
       "    }\n",
       "\n",
       "    .dataframe tbody tr th {\n",
       "        vertical-align: top;\n",
       "    }\n",
       "\n",
       "    .dataframe thead th {\n",
       "        text-align: right;\n",
       "    }\n",
       "</style>\n",
       "<table border=\"1\" class=\"dataframe\">\n",
       "  <thead>\n",
       "    <tr style=\"text-align: right;\">\n",
       "      <th></th>\n",
       "      <th>text</th>\n",
       "      <th>target</th>\n",
       "    </tr>\n",
       "  </thead>\n",
       "  <tbody>\n",
       "    <tr>\n",
       "      <th>0</th>\n",
       "      <td>As U.S. budget fight looms, Republicans flip t...</td>\n",
       "      <td>1</td>\n",
       "    </tr>\n",
       "    <tr>\n",
       "      <th>1</th>\n",
       "      <td>U.S. military to accept transgender recruits o...</td>\n",
       "      <td>1</td>\n",
       "    </tr>\n",
       "    <tr>\n",
       "      <th>2</th>\n",
       "      <td>Senior U.S. Republican senator: 'Let Mr. Muell...</td>\n",
       "      <td>1</td>\n",
       "    </tr>\n",
       "    <tr>\n",
       "      <th>3</th>\n",
       "      <td>FBI Russia probe helped by Australian diplomat...</td>\n",
       "      <td>1</td>\n",
       "    </tr>\n",
       "    <tr>\n",
       "      <th>4</th>\n",
       "      <td>Trump wants Postal Service to charge 'much mor...</td>\n",
       "      <td>1</td>\n",
       "    </tr>\n",
       "    <tr>\n",
       "      <th>...</th>\n",
       "      <td>...</td>\n",
       "      <td>...</td>\n",
       "    </tr>\n",
       "    <tr>\n",
       "      <th>23471</th>\n",
       "      <td>Seven Iranians freed in the prisoner swap have...</td>\n",
       "      <td>0</td>\n",
       "    </tr>\n",
       "    <tr>\n",
       "      <th>23472</th>\n",
       "      <td>#Hashtag Hell &amp; The Fake Left  By Dady Chery a...</td>\n",
       "      <td>0</td>\n",
       "    </tr>\n",
       "    <tr>\n",
       "      <th>23473</th>\n",
       "      <td>Astroturfing: Journalist Reveals Brainwashing ...</td>\n",
       "      <td>0</td>\n",
       "    </tr>\n",
       "    <tr>\n",
       "      <th>23474</th>\n",
       "      <td>The New American Century: An Era of Fraud Paul...</td>\n",
       "      <td>0</td>\n",
       "    </tr>\n",
       "    <tr>\n",
       "      <th>23475</th>\n",
       "      <td>Hillary Clinton: ‘Israel First’ (and no peace ...</td>\n",
       "      <td>0</td>\n",
       "    </tr>\n",
       "  </tbody>\n",
       "</table>\n",
       "<p>42829 rows × 2 columns</p>\n",
       "</div>"
      ],
      "text/plain": [
       "                                                    text  target\n",
       "0      As U.S. budget fight looms, Republicans flip t...       1\n",
       "1      U.S. military to accept transgender recruits o...       1\n",
       "2      Senior U.S. Republican senator: 'Let Mr. Muell...       1\n",
       "3      FBI Russia probe helped by Australian diplomat...       1\n",
       "4      Trump wants Postal Service to charge 'much mor...       1\n",
       "...                                                  ...     ...\n",
       "23471  Seven Iranians freed in the prisoner swap have...       0\n",
       "23472  #Hashtag Hell & The Fake Left  By Dady Chery a...       0\n",
       "23473  Astroturfing: Journalist Reveals Brainwashing ...       0\n",
       "23474  The New American Century: An Era of Fraud Paul...       0\n",
       "23475  Hillary Clinton: ‘Israel First’ (and no peace ...       0\n",
       "\n",
       "[42829 rows x 2 columns]"
      ]
     },
     "execution_count": 4,
     "metadata": {},
     "output_type": "execute_result"
    },
    {
     "name": "stdout",
     "output_type": "stream",
     "text": [
      "\n",
      "Null values by column:\n"
     ]
    },
    {
     "data": {
      "text/plain": [
       "text      0\n",
       "target    0\n",
       "dtype: int64"
      ]
     },
     "execution_count": 4,
     "metadata": {},
     "output_type": "execute_result"
    },
    {
     "name": "stdout",
     "output_type": "stream",
     "text": [
      "\n"
     ]
    }
   ],
   "source": [
    "# Combine true_news and fake_news data frames into one\n",
    "dfs = [true_news, fake_news]\n",
    "news_data = pd.concat(dfs)\n",
    "\n",
    "# Concatenate text columns and isolate only relevant columns for analysis (i.e., text and target)\n",
    "news_data['text'] = news_data['title'] + ' ' + news_data['text']\n",
    "news_data = news_data[['text', 'target']]\n",
    "\n",
    "# Check that binary values were assigned correctly\n",
    "print(\"Dimensions of data frame that will be cleaned:\")\n",
    "news_data.shape # data frame dimensions\n",
    "print()\n",
    "\n",
    "print(\"First and last five rows of pre-cleaned concatenated dataset:\")\n",
    "news_data.head(-5) # first 5 and last 5 rows\n",
    "print()\n",
    "\n",
    "print(\"Null values by column:\")\n",
    "news_data.isnull().sum() # check for null values\n",
    "print()"
   ]
  },
  {
   "cell_type": "code",
   "execution_count": 5,
   "metadata": {},
   "outputs": [
    {
     "name": "stderr",
     "output_type": "stream",
     "text": [
      "[nltk_data] Downloading package omw-1.4 to\n",
      "[nltk_data]     C:\\Users\\ZLoken\\AppData\\Roaming\\nltk_data...\n",
      "[nltk_data]   Package omw-1.4 is already up-to-date!\n",
      "[nltk_data] Downloading package stopwords to\n",
      "[nltk_data]     C:\\Users\\ZLoken\\AppData\\Roaming\\nltk_data...\n",
      "[nltk_data]   Package stopwords is already up-to-date!\n",
      "[nltk_data] Downloading package wordnet to\n",
      "[nltk_data]     C:\\Users\\ZLoken\\AppData\\Roaming\\nltk_data...\n",
      "[nltk_data]   Package wordnet is already up-to-date!\n"
     ]
    }
   ],
   "source": [
    "# Instantiate WordNetLemmatizer() -- reduce words to their roots\n",
    "wnl = WordNetLemmatizer()\n",
    "\n",
    "# Download multilingual Wordnet data from OMW\n",
    "nltk.download('omw-1.4')\n",
    "\n",
    "# List of english stopwords\n",
    "nltk.download('stopwords')\n",
    "stop_words = set(stopwords.words('english'))\n",
    "\n",
    "# Download english dictionary ('wordnet')\n",
    "nltk.download('wordnet');\n",
    "\n",
    "# Download pre-trained GloVe embeddings using the following commands: \n",
    "# \"wget http://nlp.stanford.edu/data/glove.6B.zip\"\n",
    "# \"unzip -q glove.6B.zip\""
   ]
  },
  {
   "cell_type": "code",
   "execution_count": 6,
   "metadata": {},
   "outputs": [],
   "source": [
    "# Function for cleaning/preprocessing data\n",
    "def data_cleaning(row):\n",
    "    row = row.lower() # convert text into lowercase\n",
    "    row = re.sub('[^a-zA-Z]', ' ', row) # remove number and special characters using regex (keep letters only)\n",
    "    token = row.split() # split the data into tokens\n",
    "    news = [wnl.lemmatize(word) for word in token if not word in stop_words] # lemmatize the words and remove any stopwords (e.g., a, an, the, etc.)\n",
    "    row_clean = [word for word in news if len(word) >= 3] # only keep words greater than or equal to length of 3\n",
    "    cleaned_news = ' '.join(row_clean) # join all tokenized words with space in between \n",
    "    \n",
    "    return cleaned_news"
   ]
  },
  {
   "cell_type": "code",
   "execution_count": 7,
   "metadata": {},
   "outputs": [
    {
     "name": "stdout",
     "output_type": "stream",
     "text": [
      "First and last five rows after cleaning the data:\n"
     ]
    },
    {
     "data": {
      "text/html": [
       "<div>\n",
       "<style scoped>\n",
       "    .dataframe tbody tr th:only-of-type {\n",
       "        vertical-align: middle;\n",
       "    }\n",
       "\n",
       "    .dataframe tbody tr th {\n",
       "        vertical-align: top;\n",
       "    }\n",
       "\n",
       "    .dataframe thead th {\n",
       "        text-align: right;\n",
       "    }\n",
       "</style>\n",
       "<table border=\"1\" class=\"dataframe\">\n",
       "  <thead>\n",
       "    <tr style=\"text-align: right;\">\n",
       "      <th></th>\n",
       "      <th>text</th>\n",
       "      <th>target</th>\n",
       "    </tr>\n",
       "  </thead>\n",
       "  <tbody>\n",
       "    <tr>\n",
       "      <th>0</th>\n",
       "      <td>budget fight loom republican flip fiscal scrip...</td>\n",
       "      <td>1</td>\n",
       "    </tr>\n",
       "    <tr>\n",
       "      <th>1</th>\n",
       "      <td>military accept transgender recruit monday pen...</td>\n",
       "      <td>1</td>\n",
       "    </tr>\n",
       "    <tr>\n",
       "      <th>2</th>\n",
       "      <td>senior republican senator let mueller job wash...</td>\n",
       "      <td>1</td>\n",
       "    </tr>\n",
       "    <tr>\n",
       "      <th>3</th>\n",
       "      <td>fbi russia probe helped australian diplomat ti...</td>\n",
       "      <td>1</td>\n",
       "    </tr>\n",
       "    <tr>\n",
       "      <th>4</th>\n",
       "      <td>trump want postal service charge much amazon s...</td>\n",
       "      <td>1</td>\n",
       "    </tr>\n",
       "    <tr>\n",
       "      <th>...</th>\n",
       "      <td>...</td>\n",
       "      <td>...</td>\n",
       "    </tr>\n",
       "    <tr>\n",
       "      <th>23471</th>\n",
       "      <td>seven iranian freed prisoner swap returned ira...</td>\n",
       "      <td>0</td>\n",
       "    </tr>\n",
       "    <tr>\n",
       "      <th>23472</th>\n",
       "      <td>hashtag hell fake left dady chery gilbert merc...</td>\n",
       "      <td>0</td>\n",
       "    </tr>\n",
       "    <tr>\n",
       "      <th>23473</th>\n",
       "      <td>astroturfing journalist reveals brainwashing t...</td>\n",
       "      <td>0</td>\n",
       "    </tr>\n",
       "    <tr>\n",
       "      <th>23474</th>\n",
       "      <td>new american century era fraud paul craig robe...</td>\n",
       "      <td>0</td>\n",
       "    </tr>\n",
       "    <tr>\n",
       "      <th>23475</th>\n",
       "      <td>hillary clinton israel first peace middle east...</td>\n",
       "      <td>0</td>\n",
       "    </tr>\n",
       "  </tbody>\n",
       "</table>\n",
       "<p>42829 rows × 2 columns</p>\n",
       "</div>"
      ],
      "text/plain": [
       "                                                    text  target\n",
       "0      budget fight loom republican flip fiscal scrip...       1\n",
       "1      military accept transgender recruit monday pen...       1\n",
       "2      senior republican senator let mueller job wash...       1\n",
       "3      fbi russia probe helped australian diplomat ti...       1\n",
       "4      trump want postal service charge much amazon s...       1\n",
       "...                                                  ...     ...\n",
       "23471  seven iranian freed prisoner swap returned ira...       0\n",
       "23472  hashtag hell fake left dady chery gilbert merc...       0\n",
       "23473  astroturfing journalist reveals brainwashing t...       0\n",
       "23474  new american century era fraud paul craig robe...       0\n",
       "23475  hillary clinton israel first peace middle east...       0\n",
       "\n",
       "[42829 rows x 2 columns]"
      ]
     },
     "execution_count": 7,
     "metadata": {},
     "output_type": "execute_result"
    },
    {
     "name": "stdout",
     "output_type": "stream",
     "text": [
      "\n"
     ]
    }
   ],
   "source": [
    "# Clean the data - might take a couple minutes to run.\n",
    "news_data['text'] = news_data['text'].apply(lambda x : data_cleaning(x)) # 'text' column gets cleaned\n",
    "print(\"First and last five rows after cleaning the data:\")\n",
    "news_data.head(-5) # check that cleaning went as planned\n",
    "print()"
   ]
  },
  {
   "cell_type": "code",
   "execution_count": 8,
   "metadata": {},
   "outputs": [
    {
     "name": "stdout",
     "output_type": "stream",
     "text": [
      "Null values by column:\n"
     ]
    },
    {
     "data": {
      "text/plain": [
       "text      0\n",
       "target    0\n",
       "dtype: int64"
      ]
     },
     "execution_count": 8,
     "metadata": {},
     "output_type": "execute_result"
    },
    {
     "name": "stdout",
     "output_type": "stream",
     "text": [
      "\n",
      "Unique values by column:\n"
     ]
    },
    {
     "data": {
      "text/plain": [
       "text      37681\n",
       "target        2\n",
       "dtype: int64"
      ]
     },
     "execution_count": 8,
     "metadata": {},
     "output_type": "execute_result"
    },
    {
     "name": "stdout",
     "output_type": "stream",
     "text": [
      "\n"
     ]
    }
   ],
   "source": [
    "# Check for null values\n",
    "print(\"Null values by column:\")\n",
    "news_data.isnull().sum() # want zero null values\n",
    "print()\n",
    "\n",
    "# Check number unique values in each column\n",
    "print(\"Unique values by column:\")\n",
    "news_data.nunique() # number unique values in each column\n",
    "print()"
   ]
  },
  {
   "cell_type": "code",
   "execution_count": 9,
   "metadata": {},
   "outputs": [
    {
     "name": "stdout",
     "output_type": "stream",
     "text": [
      "First and last five rows after shuffling the data:\n"
     ]
    },
    {
     "data": {
      "text/html": [
       "<div>\n",
       "<style scoped>\n",
       "    .dataframe tbody tr th:only-of-type {\n",
       "        vertical-align: middle;\n",
       "    }\n",
       "\n",
       "    .dataframe tbody tr th {\n",
       "        vertical-align: top;\n",
       "    }\n",
       "\n",
       "    .dataframe thead th {\n",
       "        text-align: right;\n",
       "    }\n",
       "</style>\n",
       "<table border=\"1\" class=\"dataframe\">\n",
       "  <thead>\n",
       "    <tr style=\"text-align: right;\">\n",
       "      <th></th>\n",
       "      <th>text</th>\n",
       "      <th>target</th>\n",
       "    </tr>\n",
       "  </thead>\n",
       "  <tbody>\n",
       "    <tr>\n",
       "      <th>15906</th>\n",
       "      <td>russia putin say situation syria developing po...</td>\n",
       "      <td>1</td>\n",
       "    </tr>\n",
       "    <tr>\n",
       "      <th>9518</th>\n",
       "      <td>boston men jailed trump inspired hate crime at...</td>\n",
       "      <td>1</td>\n",
       "    </tr>\n",
       "    <tr>\n",
       "      <th>20530</th>\n",
       "      <td>watch child molester bernie sander want voter ...</td>\n",
       "      <td>0</td>\n",
       "    </tr>\n",
       "    <tr>\n",
       "      <th>15577</th>\n",
       "      <td>mattis back geneva process syrian conflict hel...</td>\n",
       "      <td>1</td>\n",
       "    </tr>\n",
       "    <tr>\n",
       "      <th>15769</th>\n",
       "      <td>death toll strike gaza tunnel week rise gaza r...</td>\n",
       "      <td>1</td>\n",
       "    </tr>\n",
       "    <tr>\n",
       "      <th>...</th>\n",
       "      <td>...</td>\n",
       "      <td>...</td>\n",
       "    </tr>\n",
       "    <tr>\n",
       "      <th>20840</th>\n",
       "      <td>czech lawmaker vote force candidate babis face...</td>\n",
       "      <td>1</td>\n",
       "    </tr>\n",
       "    <tr>\n",
       "      <th>12369</th>\n",
       "      <td>crybaby community organizer make fool germany ...</td>\n",
       "      <td>0</td>\n",
       "    </tr>\n",
       "    <tr>\n",
       "      <th>11366</th>\n",
       "      <td>turkey restore sudanese red sea port build nav...</td>\n",
       "      <td>1</td>\n",
       "    </tr>\n",
       "    <tr>\n",
       "      <th>19048</th>\n",
       "      <td>turnout high iraqi kurd defy threat hold indep...</td>\n",
       "      <td>1</td>\n",
       "    </tr>\n",
       "    <tr>\n",
       "      <th>1068</th>\n",
       "      <td>trying brag trump accidentally showed sexist r...</td>\n",
       "      <td>0</td>\n",
       "    </tr>\n",
       "  </tbody>\n",
       "</table>\n",
       "<p>42829 rows × 2 columns</p>\n",
       "</div>"
      ],
      "text/plain": [
       "                                                    text  target\n",
       "15906  russia putin say situation syria developing po...       1\n",
       "9518   boston men jailed trump inspired hate crime at...       1\n",
       "20530  watch child molester bernie sander want voter ...       0\n",
       "15577  mattis back geneva process syrian conflict hel...       1\n",
       "15769  death toll strike gaza tunnel week rise gaza r...       1\n",
       "...                                                  ...     ...\n",
       "20840  czech lawmaker vote force candidate babis face...       1\n",
       "12369  crybaby community organizer make fool germany ...       0\n",
       "11366  turkey restore sudanese red sea port build nav...       1\n",
       "19048  turnout high iraqi kurd defy threat hold indep...       1\n",
       "1068   trying brag trump accidentally showed sexist r...       0\n",
       "\n",
       "[42829 rows x 2 columns]"
      ]
     },
     "execution_count": 9,
     "metadata": {},
     "output_type": "execute_result"
    },
    {
     "name": "stdout",
     "output_type": "stream",
     "text": [
      "\n"
     ]
    }
   ],
   "source": [
    "# Randomly shuffle rows in news_data\n",
    "news_data = news_data.sample(frac = 1)\n",
    "print(\"First and last five rows after shuffling the data:\")\n",
    "news_data.head(-5) # check that shuffling went as planned\n",
    "print()"
   ]
  },
  {
   "cell_type": "code",
   "execution_count": 10,
   "metadata": {},
   "outputs": [
    {
     "data": {
      "text/plain": [
       "15906    1\n",
       "9518     1\n",
       "20530    0\n",
       "15577    1\n",
       "15769    1\n",
       "        ..\n",
       "20840    1\n",
       "12369    0\n",
       "11366    1\n",
       "19048    1\n",
       "1068     0\n",
       "Name: target, Length: 42829, dtype: int64"
      ]
     },
     "execution_count": 10,
     "metadata": {},
     "output_type": "execute_result"
    },
    {
     "data": {
      "text/plain": [
       "15906    russia putin say situation syria developing po...\n",
       "9518     boston men jailed trump inspired hate crime at...\n",
       "20530    watch child molester bernie sander want voter ...\n",
       "15577    mattis back geneva process syrian conflict hel...\n",
       "15769    death toll strike gaza tunnel week rise gaza r...\n",
       "                               ...                        \n",
       "20840    czech lawmaker vote force candidate babis face...\n",
       "12369    crybaby community organizer make fool germany ...\n",
       "11366    turkey restore sudanese red sea port build nav...\n",
       "19048    turnout high iraqi kurd defy threat hold indep...\n",
       "1068     trying brag trump accidentally showed sexist r...\n",
       "Name: text, Length: 42829, dtype: object"
      ]
     },
     "execution_count": 10,
     "metadata": {},
     "output_type": "execute_result"
    }
   ],
   "source": [
    "# Isolate the target and text features\n",
    "target = news_data['target'] # target values\n",
    "text_dataset = news_data['text'] # predictor text features\n",
    "\n",
    "# Check first and last 5 rows of target and text datasets\n",
    "target.head(-5)\n",
    "text_dataset.head(-5)"
   ]
  },
  {
   "cell_type": "code",
   "execution_count": 11,
   "metadata": {},
   "outputs": [
    {
     "data": {
      "text/plain": [
       "14637    french military say coalition opposed withdraw...\n",
       "17168    britain say chance resolving northern ireland ...\n",
       "17485    president trump blast retiring fbi deputy dire...\n",
       "13169    blacklivesmatter golf take priority vet old ve...\n",
       "22560    boiler room lord pedo ring political correct h...\n",
       "                               ...                        \n",
       "15584    video american vet fighting isi sit back watch...\n",
       "6267     think trump want keep job home think profiting...\n",
       "0        budget fight loom republican flip fiscal scrip...\n",
       "3045     white house say trump tweet meet comey tape re...\n",
       "1198     watch watergate reporter carl bernstein hammer...\n",
       "Name: text, Length: 34262, dtype: object"
      ]
     },
     "execution_count": 11,
     "metadata": {},
     "output_type": "execute_result"
    },
    {
     "data": {
      "text/plain": [
       "14914    0\n",
       "14192    1\n",
       "607      1\n",
       "16390    0\n",
       "14475    0\n",
       "        ..\n",
       "20560    0\n",
       "12861    0\n",
       "21035    0\n",
       "2398     1\n",
       "13396    0\n",
       "Name: target, Length: 8562, dtype: int64"
      ]
     },
     "execution_count": 11,
     "metadata": {},
     "output_type": "execute_result"
    }
   ],
   "source": [
    "# Split the data into training and test subsets\n",
    "train_data, test_data, train_target, test_target = train_test_split(text_dataset, target, random_state = 5, train_size = 0.80)\n",
    "\n",
    "# Check the split from into training and testing datasets\n",
    "train_data.head(-5)\n",
    "test_target.head(-5)"
   ]
  },
  {
   "cell_type": "code",
   "execution_count": 12,
   "metadata": {},
   "outputs": [
    {
     "data": {
      "text/plain": [
       "<tf.Tensor: shape=(8567,), dtype=string, numpy=\n",
       "array([b'hillary barack choose islam christianity every time always brilliant ben shapiro answer question well brilliant way tuesday former secretary state hillary clinton american woman responsible current refugee crisis middle east blasted republican wanting accept unvetted syrian muslim refugee aftermath last week paris terror attack tweeted seen lot hateful rhetoric gop idea turn away refugee religion new low hillary clinton hillaryclinton november sure odd hillary decrying hateful rhetoric smack irony despises republican much labeled enemy first demoratic debate furthermore hillary fighter religious freedom april told woman world summit deep seated cultural code religious belief structural bias changed allow abortion aftermath supreme court egregious sex marriage decision june hillary explicitly called government force church sanction homosexuality explaining work finished every american marry live work pray learn raise family free discrimination prejudice pray attend church free discrimination prejudice sure hot bothered term discrimination muslim refugee particularly surprising entire left peculiar soft spot islam seems weird given islamic country fundamental rejection leftist value ranging sex marriage abortion woman driving weird considered context marxist philosophy see islam religious philosophy sort bizarre cultural outgrowth poverty impoverished people believe weird thing say marxist gave isi job stop nonsense start behaving like member aclu leftist see islam ideological force converting million knee jerk response lack basic living standard fact leftist see religion way refuge weakminded underclass marx wrote religion sigh oppressed creature heart heartless world soul soulless condition opium people barack obama agrees said back poor people get bitter cling gun religion antipathy toward people like view religious practice essentially domain exploited would cut favor seeing religious practice equally worthy dismissal left prefers islam christianity fight anyone drawing picture mohammed lose mind christian complain artist soaking statue jesus urine leftist treat christianity islam differently merely chimerical response vicissitude life leftist see christianity creator islam rise christian victimizer muslim obama state department recognize christian victim incipient muslim genocide middle east president obama equate isi violence crusade spanish inquisition president obama belief like many left western civilization founded racism sexism homophobia bigotry christianity wellspring provided impetus furthermore obama belief western civilization exploited rest world therefore bear culpability poverty gave rise islamic wave muslim benighted victim poverty christianity made victim poverty first place christianity thus bear blood guilt sin islam islam bear none dinesh souza put obama anti colonialist belief rich country got rich looting poor country within rich country plutocratic corporate elite continue exploit ordinary citizen taken one step rich country christian country exploited non christian country impoverishing opening opium islam else explain left romance islam simultaneous dismissal christianity else explain left preoccupation allowing muslim refugee christianity founded west demanding nothing islamic country murdering christian masse hillary clinton say hateful western country discriminate choosing refugee based religious philosophy far hateful suggest christianity must bow scrape islam particularly islamic terrorist target non muslim world via breitbart news',\n",
       "       b'rohingya refugee drained trauma say refugee chief seoul reuters hundred thousand rohingya muslim fled bangladesh violence myanmar drained trauma suffered crisis struggle overcome desperate want united nation refugee chief said wednesday rohingya fled buddhist majority myanmar since late august year neighboring bangladesh driven military clearance operation rakhine state refugee suffering caused international outcry spurring appeal aid agency million dollar fund tackle crisis found population almost response passive said filippo grandi high commissioner refugee describing visit late september camp refugee staying almost felt nothing left everything drained told reuters interview first visit south korean capital saw lassitude symptom trauma added seen kind trauma long long time italian diplomat said maybe saw central africa grandi coordinated humanitarian activity democratic republic congo civil war success aid effort united nation non government body depends myanmar government defuse hostility facing humanitarian worker rakhine grandi said political work favor one community said contrary directed need member buddhist community need certainly qualify think important stress said grandi tension rising government aid agency even spasm violence began late august official accused world food programme aiding insurgent high energy biscuit discovered july forest encampment authority said belonged militant group arakan rohingya salvation army longstanding antipathy among ethnic rakhine buddhist say nongovernment body favor rohingya aid delivery spiked august protester demanding aid agency leave warning staff rising hostility since aug militant attack rakhine government barred aid agency except red cross organization working state north curtailed activity elsewhere state several case aid delivery forcibly blocked rakhine buddhist office coordination humanitarian affair said world food programme resumed food distribution northern rakhine month limited access meant agency still know many people internally displaced last three month access remains restricted humanitarian actor northern rakhine preventing reaching many people need agency said central rakhine humanitarian organization also continue face access constraint',\n",
       "       b'alabama republican party stand senate candidate moore reuters alabama republican party said thursday supported embattled senate candidate roy moore allegation sexual misconduct roiled race judge moore vehemently denied allegation made deserves presumed innocent accusation unless proven otherwise said statement continue take case straight people alabama',\n",
       "       ...,\n",
       "       b'lawmaker question businessman trump tower meeting source washington reuters georgian american businessman met miss universe pageant owner donald trump questioned congressional investigator whether helped organize meeting russian trump eldest son election campaign four source familiar matter said meeting trump tower new york involving donald trump campaign adviser focus probe congress special counsel robert mueller whether campaign official colluded russia sought interfere election source said russia denies allegation intelligence agency meddled election president donald trump denies collusion senate house representative intelligence committee recently questioned behind closed door irakly kaveladze citizen born former soviet republic georgia source said based representative azerbaijani oligarch ara agalarov real estate firm crocus group panel knew kaveladze june meeting became interested learning also attended private dinner vega trump agalarov celebrated agreement hold year miss universe pageant moscow source said committee member want know extent kaveladze contact trump family whether bigger role previously believed setting trump tower meeting trump republican candidate president white house declined comment mueller office also declined comment scott balber new york lawyer represents kaveladze confirmed client attended dinner vega trump tower meeting said set second meeting trump son law jared kushner trump campaign aide russian lawyer natalia veselnitskaya also meeting lawyer balber also said committee seeking kaveladze input witness targeting investigation one ever told interest witness balber said lawyer trump kushner respond request comment contact kaveladze lawyer president trump declined comment one photograph dinner trump still owned miss universe pageant show agalarov pop singer son emin along trump two trump aide several people dining table another show kaveladze standing behind trump emin agalarov speak picture found university california irvine student blogger scott stedman posted nov ara agalarov billionaire property developer russia awarded order honor russian president vladimir putin several official spoke condition anonymity said mueller team committee looking evidence link trump tower meeting release six week later email stolen democratic party organization also trying determine whether discussion new york meeting lifting economic sanction russia top priority putin official said rob goldstone british publicist told trump ahead new york meeting russian lawyer veselnitskaya would bringing damaging information donation charity linked trump democratic rival hillary clinton according email later released trump trump initially said meeting russian adoption later said also included veselnitskaya promise information donation clinton charity said ultimately never received information although later posted internet statement issued meeting senate judiciary committee sept trump said goldstone veselnitskaya conference room well kaveladze translator balber said kaveladze attended expecting serve translator although end veselnitskaya brought',\n",
       "       b'watch feel good video day one year later hilarious video reminds democrat medium hollywood promised donald trump would never win sit back relax enjoy left telling viewer fan donald trump never win presidency watch medium hollywood freak meltdown trump win said would never happen hard imagine much hate poor liberal heart much president trump accomplished since election november vice president mike penny offer list president trump accomplishment since election one year ago today thanks president leadership american economy roaring business created nearly million new job manufacturer confident year stock market setting record creating nearly trillion wealth pension retirement saving american people eight year lackluster growth economy already expanded least two quarter row economy making comeback president trump taken decisive action spur new era opportunity prosperity growth unleashed american energy approved keystone dakota pipeline president trump war coal appointing originalists federal court uphold constitution god given liberty president trump put justice neil gorsuch supreme court president trump also taken decisive action ensure safety security american people home abroad stood without apology men woman law enforcement securing border enforcing law taking gang member drug dealer violent criminal street president putting veteran first signed bill restore accountability department veteran affair give veteran access world class care deserve rebuilding military president trump already signed largest increase defense spending nearly year working congress pas one largest investment national defense since day ronald reagan renewed american strength president achieving real result international stage nato ally contributing common defense isi run caliphate crumbling president reaffirmed credibility american power enforced red line chemical weapon syria put iran notice made clear cannot certify iran nuclear deal administration brought unprecedented economic diplomatic pressure bear north korea year accomplishment getting started year pas historic tax cut american people president trump leadership know make america great',\n",
       "       b'intel chief decline comment trump request russia washington reuters director national intelligence dan coat declined say whether president donald trump asked help deny collusion campaign team russia reported washington post saying talk trump private topic well topic feel appropriate characterize discussion conversation president coat said alleged request speaking hearing senate armed service committee'],\n",
       "      dtype=object)>"
      ]
     },
     "execution_count": 12,
     "metadata": {},
     "output_type": "execute_result"
    },
    {
     "data": {
      "text/plain": [
       "<tf.Tensor: shape=(34267,), dtype=int32, numpy=array([1, 1, 0, ..., 1, 0, 0])>"
      ]
     },
     "execution_count": 12,
     "metadata": {},
     "output_type": "execute_result"
    }
   ],
   "source": [
    "# Convert the text_dataset, train_data, and test_data text data frames to a tensor\n",
    "train_data = tf.convert_to_tensor(train_data, dtype = tf.string) # for training the model\n",
    "test_data = tf.convert_to_tensor(test_data, dtype = tf.string) # for testing the model\n",
    "train_target = tf.convert_to_tensor(train_target, dtype = tf.int32) # train data\n",
    "test_target = tf.convert_to_tensor(test_target, dtype = tf.int32) # test data\n",
    "text_dataset = tf.convert_to_tensor(text_dataset, dtype = tf.string) # for mapping text to vectors using gloVe pre-trained word embeddings\n",
    "\n",
    "# Double check conversion to tensor slices\n",
    "test_data\n",
    "train_target"
   ]
  },
  {
   "cell_type": "code",
   "execution_count": 13,
   "metadata": {},
   "outputs": [],
   "source": [
    "# List of different values to try for TfidVectorizer max_features (i.e., top key words)\n",
    "key_words = 200 # How many of the top key words to keep - iterate over list\n",
    "n_grams = (1, 2) # ngram_range dictates if we keep 1 word (1, 1), 1 or 2 words (1, 2) etc.\n",
    "max_len = 300 # sequence length to pad the outputs to"
   ]
  },
  {
   "cell_type": "code",
   "execution_count": 14,
   "metadata": {},
   "outputs": [],
   "source": [
    "# Create the vocabulary index. \n",
    "vectorizer = tf.keras.layers.TextVectorization(\n",
    "    max_tokens = key_words, # number of top key words to keep\n",
    "    standardize = None, # data already cleaned above\n",
    "    split = 'whitespace', # already split tokens during data cleaning\n",
    "    ngrams = n_grams, # range of token string lengths to keep in max_tokens (unigram, bigram, trigram)\n",
    "    output_mode = 'int', # outputs one integer index per split string token\n",
    "    output_sequence_length = max_len, # if set, output will have its time (length) dimension padded to exactly the specified value\n",
    "    pad_to_max_tokens = False, # not valid argument for integer outputs\n",
    "    vocabulary = None, # optional, the adapt layer below handle's this step better\n",
    "    idf_weights = None, # not valid argument for integer outputs\n",
    "    sparse = False, # not applicable argument for integer outputs\n",
    "    ragged = False, # false cause you want each sequence shrunk or padded to the same output_sequence_length\n",
    ")"
   ]
  },
  {
   "cell_type": "code",
   "execution_count": 15,
   "metadata": {},
   "outputs": [],
   "source": [
    "# Now that the vocab layer has been created, call `adapt` on the text-only\n",
    "# dataset to create the vocabulary. You don't have to batch, but for large\n",
    "# datasets this means we're not keeping spare copies of the dataset.\n",
    "vectorizer.adapt(text_dataset) # vocabulary is truncated to max_tokens (number key words) during adapt()"
   ]
  },
  {
   "cell_type": "code",
   "execution_count": 16,
   "metadata": {},
   "outputs": [
    {
     "data": {
      "text/plain": [
       "['',\n",
       " '[UNK]',\n",
       " 'trump',\n",
       " 'said',\n",
       " 'state',\n",
       " 'president',\n",
       " 'would',\n",
       " 'year',\n",
       " 'people',\n",
       " 'republican']"
      ]
     },
     "execution_count": 16,
     "metadata": {},
     "output_type": "execute_result"
    }
   ],
   "source": [
    "# Retrieve the top 10 words from vectorized vocabulary\n",
    "vectorizer.get_vocabulary()[:10]"
   ]
  },
  {
   "cell_type": "code",
   "execution_count": 17,
   "metadata": {},
   "outputs": [],
   "source": [
    "# Create a dictionary mapping words to their indices\n",
    "voc = vectorizer.get_vocabulary()\n",
    "word_index = dict(zip(voc, range(len(voc))))"
   ]
  },
  {
   "cell_type": "code",
   "execution_count": 18,
   "metadata": {},
   "outputs": [
    {
     "name": "stdout",
     "output_type": "stream",
     "text": [
      "Found 400000 word vectors.\n"
     ]
    }
   ],
   "source": [
    "# Make a dictionary mapping strings to their NumPy vector representation in gloVe:\n",
    "data_dir = 'E:/Zack/School/Classes/Summer 22/CSC 7333 - Machine Learning/Group Project/glove.6B.100d.txt'\n",
    "\n",
    "embeddings_index = {}\n",
    "with open(data_dir, encoding = \"utf8\") as f:\n",
    "    for line in f:\n",
    "        word, coefs = line.split(maxsplit = 1)\n",
    "        coefs = np.fromstring(coefs, \"f\", sep = \" \")\n",
    "        embeddings_index[word] = coefs\n",
    "\n",
    "print(\"Found %s word vectors.\" % len(embeddings_index))"
   ]
  },
  {
   "cell_type": "code",
   "execution_count": 19,
   "metadata": {},
   "outputs": [],
   "source": [
    "# Define arguments for a corresponding embedding matrix to use in the model's Embedding layer\n",
    "num_tokens = len(voc) + 2 # plus 2 because 0 is reserved for padding and 1 is reserved for tokens not in vocab\n",
    "embedding_dim = 100\n",
    "hits = 0\n",
    "misses = 0"
   ]
  },
  {
   "cell_type": "code",
   "execution_count": 20,
   "metadata": {},
   "outputs": [
    {
     "name": "stdout",
     "output_type": "stream",
     "text": [
      "Converted 193 words (7 misses)\n"
     ]
    }
   ],
   "source": [
    "# Prepare embedding matrix\n",
    "embedding_matrix = np.zeros((num_tokens, embedding_dim))\n",
    "for word, i in word_index.items():\n",
    "    embedding_vector = embeddings_index.get(word)\n",
    "    if embedding_vector is not None:\n",
    "        # Words not found in embedding index will be all-zeros.\n",
    "        # This includes the representation for \"padding\" and \"OOV\"\n",
    "        embedding_matrix[i] = embedding_vector\n",
    "        hits += 1\n",
    "    else:\n",
    "        misses += 1\n",
    "print(\"Converted %d words (%d misses)\" % (hits, misses))"
   ]
  },
  {
   "cell_type": "code",
   "execution_count": 21,
   "metadata": {},
   "outputs": [],
   "source": [
    "# Create the model that uses the vectorized text layer\n",
    "model = Sequential()"
   ]
  },
  {
   "cell_type": "code",
   "execution_count": 22,
   "metadata": {},
   "outputs": [],
   "source": [
    "# Start by creating an explicit input layer. It needs to have a shape of\n",
    "# (1,) (because we need to guarantee that there is exactly one string\n",
    "# input per batch), and the dtype needs to be 'string'.\n",
    "model.add(tf.keras.Input(shape = (1,), dtype = tf.string))"
   ]
  },
  {
   "cell_type": "code",
   "execution_count": 23,
   "metadata": {},
   "outputs": [],
   "source": [
    "# The first layer in our model is the vectorization layer. After this layer,\n",
    "# we have a tensor of shape (batch_size, max_len) containing vocab indices\n",
    "model.add(vectorizer)"
   ]
  },
  {
   "cell_type": "code",
   "execution_count": 25,
   "metadata": {},
   "outputs": [],
   "source": [
    "# Now, the model can map strings to integers, and you can add an embedding\n",
    "# layer to map these integers to learned embeddings.\n",
    "model.add(Embedding(\n",
    "    num_tokens, # kw (or voc) + 2\n",
    "    embedding_dim, # 100 dimension matrix\n",
    "    input_length = max_len, # size of the padded sequence\n",
    "    embeddings_initializer = keras.initializers.Constant(embedding_matrix), # intialize based on your embedding matrix\n",
    "    trainable = False # set to false so you don't update embedding during training\n",
    "))"
   ]
  },
  {
   "cell_type": "code",
   "execution_count": 26,
   "metadata": {},
   "outputs": [],
   "source": [
    "# Add the convolutional layer\n",
    "model.add(Conv1D(filters = 128, kernel_size = 5, padding = 'same', activation = 'relu')) # extract local features using 128 filters with kernel size of 5 and default ReLU activiation function"
   ]
  },
  {
   "cell_type": "code",
   "execution_count": 27,
   "metadata": {},
   "outputs": [],
   "source": [
    "# Add the pooling layer\n",
    "model.add(MaxPooling1D(pool_size = 2)) # pool large vector features from above CNN layer with window size of 2--this downsamples the feature vectors/parameters"
   ]
  },
  {
   "cell_type": "code",
   "execution_count": 28,
   "metadata": {},
   "outputs": [],
   "source": [
    "# Add the RNN (LSTM) layer\n",
    "model.add(LSTM(32)) # this is your RNN (long short-term memory (LSTM)) layer; the pooled features from above layer are the input w/ default hyperbolic tangent activation"
   ]
  },
  {
   "cell_type": "code",
   "execution_count": 29,
   "metadata": {},
   "outputs": [],
   "source": [
    "# Add the dense layer for classifying outputs\n",
    "model.add(Dense(1, activation = 'sigmoid')) # this layer classifies the trained vector features and shrinks the output dimension to 1, which corresponds to classification label. "
   ]
  },
  {
   "cell_type": "code",
   "execution_count": 30,
   "metadata": {},
   "outputs": [],
   "source": [
    "model.compile(loss = 'binary_crossentropy', optimizer = 'adam', metrics = ['accuracy']) # configure the model for training"
   ]
  },
  {
   "cell_type": "code",
   "execution_count": 31,
   "metadata": {},
   "outputs": [
    {
     "name": "stdout",
     "output_type": "stream",
     "text": [
      "CNN-RNN hybrid model structure using top 200 words and an n-gram range of (1, 2) is:\n",
      "Model: \"sequential\"\n",
      "_________________________________________________________________\n",
      " Layer (type)                Output Shape              Param #   \n",
      "=================================================================\n",
      " text_vectorization (TextVec  (None, 300)              0         \n",
      " torization)                                                     \n",
      "                                                                 \n",
      " embedding (Embedding)       (None, 300, 100)          20200     \n",
      "                                                                 \n",
      " conv1d_1 (Conv1D)           (None, 300, 128)          64128     \n",
      "                                                                 \n",
      " max_pooling1d (MaxPooling1D  (None, 150, 128)         0         \n",
      " )                                                               \n",
      "                                                                 \n",
      " lstm (LSTM)                 (None, 32)                20608     \n",
      "                                                                 \n",
      " dense (Dense)               (None, 1)                 33        \n",
      "                                                                 \n",
      "=================================================================\n",
      "Total params: 104,969\n",
      "Trainable params: 84,769\n",
      "Non-trainable params: 20,200\n",
      "_________________________________________________________________\n",
      "None\n",
      "\n"
     ]
    }
   ],
   "source": [
    "# CNN-RNN hybrid model structure: \n",
    "print(f\"CNN-RNN hybrid model structure using top {key_words} words and an n-gram range of {n_grams} is:\") \n",
    "print(model.summary())\n",
    "print()"
   ]
  },
  {
   "cell_type": "code",
   "execution_count": 33,
   "metadata": {},
   "outputs": [
    {
     "name": "stdout",
     "output_type": "stream",
     "text": [
      "Epoch 1/5\n",
      "536/536 [==============================] - ETA: 0s - loss: 0.4463 - accuracy: 0.8063\n",
      "Epoch 1: val_accuracy improved from -inf to 0.75791, saving model to baseline_weights_cnn-rnn.tf\n",
      "536/536 [==============================] - 62s 113ms/step - loss: 0.4463 - accuracy: 0.8063 - val_loss: 0.5100 - val_accuracy: 0.7579\n",
      "Epoch 2/5\n",
      "536/536 [==============================] - ETA: 0s - loss: 0.4214 - accuracy: 0.8134\n",
      "Epoch 2: val_accuracy improved from 0.75791 to 0.93405, saving model to baseline_weights_cnn-rnn.tf\n",
      "536/536 [==============================] - 71s 132ms/step - loss: 0.4214 - accuracy: 0.8134 - val_loss: 0.2247 - val_accuracy: 0.9340\n",
      "Epoch 3/5\n",
      "536/536 [==============================] - ETA: 0s - loss: 0.4162 - accuracy: 0.8214\n",
      "Epoch 3: val_accuracy did not improve from 0.93405\n",
      "536/536 [==============================] - 71s 132ms/step - loss: 0.4162 - accuracy: 0.8214 - val_loss: 0.6336 - val_accuracy: 0.6516\n",
      "Epoch 4/5\n",
      "536/536 [==============================] - ETA: 0s - loss: 0.2214 - accuracy: 0.9326\n",
      "Epoch 4: val_accuracy did not improve from 0.93405\n",
      "536/536 [==============================] - 77s 144ms/step - loss: 0.2214 - accuracy: 0.9326 - val_loss: 0.4691 - val_accuracy: 0.7814\n",
      "Epoch 5/5\n",
      "536/536 [==============================] - ETA: 0s - loss: 0.0575 - accuracy: 0.9871\n",
      "Epoch 5: val_accuracy improved from 0.93405 to 0.99510, saving model to baseline_weights_cnn-rnn.tf\n",
      "536/536 [==============================] - 84s 157ms/step - loss: 0.0575 - accuracy: 0.9871 - val_loss: 0.0275 - val_accuracy: 0.9951\n"
     ]
    }
   ],
   "source": [
    "# Save model weights while fitting baseline model on training data\n",
    "filepath = \"baseline_weights_cnn-rnn.tf\"\n",
    "checkpoint = ModelCheckpoint(filepath, monitor = 'val_accuracy', verbose = 1, save_best_only = True, mode = 'max', save_weights_only = True)\n",
    "callbacks_list = [checkpoint]\n",
    "history = model.fit(train_data, train_target, epochs = 5, batch_size = 64, verbose = 1, callbacks = callbacks_list, validation_data = (test_data, test_target)) # train the model using batch size 64 across 10 epochs using adaptive moment estimation (ADAM) to define learning rate in each epoch"
   ]
  },
  {
   "cell_type": "code",
   "execution_count": 34,
   "metadata": {},
   "outputs": [
    {
     "name": "stdout",
     "output_type": "stream",
     "text": [
      "CNN-RNN hybrid model accuracy using top 200 words, an n-gram range of (1, 2),\n",
      "and padded length 300 is: 99.51%\n"
     ]
    }
   ],
   "source": [
    "# Evaluate the baseline model\n",
    "scores = model.evaluate(test_data, test_target, verbose = 0)\n",
    "accuracy = (scores[1]*100)\n",
    "loss = (scores[0])\n",
    "print(f\"CNN-RNN hybrid model accuracy using top {key_words} words, an n-gram range of {n_grams},\\nand padded length {max_len} is: {accuracy:.2f}%\")"
   ]
  },
  {
   "cell_type": "code",
   "execution_count": 35,
   "metadata": {},
   "outputs": [
    {
     "name": "stdout",
     "output_type": "stream",
     "text": [
      "n_grams      key_words    padded_length       loss    accuracy\n",
      "---------  -----------  ---------------  ---------  ----------\n",
      "(1, 2)             200              300  0.0274859     99.5097\n",
      "\n"
     ]
    }
   ],
   "source": [
    "modelMetrics = {'n_grams': [], 'key_words': [], 'padded_length': [], 'loss': [], 'accuracy': []}\n",
    "modelMetrics['n_grams'].append(n_grams)\n",
    "modelMetrics['key_words'].append(key_words)\n",
    "modelMetrics['padded_length'].append(max_len)\n",
    "modelMetrics['loss'].append(loss)\n",
    "modelMetrics['accuracy'].append(accuracy)\n",
    "\n",
    "print(tabulate(modelMetrics, headers = 'keys'))\n",
    "print()"
   ]
  },
  {
   "cell_type": "code",
   "execution_count": 64,
   "metadata": {},
   "outputs": [
    {
     "data": {
      "image/png": "[encoded data removed]",
      "text/plain": [
       "<Figure size 432x288 with 1 Axes>"
      ]
     },
     "metadata": {
      "needs_background": "light"
     },
     "output_type": "display_data"
    }
   ],
   "source": [
    "# Training and validation accuracy - baseline model\n",
    "fig, ax = plt.subplots()\n",
    "plt.plot(history.history['accuracy']) # training accuracy\n",
    "plt.plot(history.history['val_accuracy']) # validation accuracy\n",
    "plt.title(f'Accuracy: CNN-RNN Baseline Model\\n{n_grams} range, {key_words} key words, and {max_len} length sequence')\n",
    "plt.legend(['Training', 'Validation'], loc = 'center right')\n",
    "plt.ylabel('Accuracy')\n",
    "plt.xlabel('Epochs')\n",
    "plt.xticks([0, 1, 2, 3, 4])\n",
    "# Create text box of accuracy to add to plot\n",
    "text_box = AnchoredText(f\"Accuracy: {accuracy:.2f}%\", frameon = False, loc = 'lower right', pad = 0.5)\n",
    "plt.setp(text_box.patch, facecolor = 'white', alpha = 0.5)\n",
    "ax.add_artist(text_box)\n",
    "plt.show();"
   ]
  },
  {
   "cell_type": "code",
   "execution_count": 65,
   "metadata": {},
   "outputs": [
    {
     "data": {
      "image/png": "[encoded data removed]",
      "text/plain": [
       "<Figure size 432x288 with 1 Axes>"
      ]
     },
     "metadata": {
      "needs_background": "light"
     },
     "output_type": "display_data"
    }
   ],
   "source": [
    "# Training and validation loss - baseline model\n",
    "fig, ax = plt.subplots()\n",
    "plt.plot(history.history['loss']) # training accuracy\n",
    "plt.plot(history.history['val_loss']) # validation accuracy\n",
    "plt.title(f'Loss: CNN-RNN Baseline Model\\n{n_grams} range, {key_words} key words, and {max_len} length sequence') \n",
    "plt.ylabel('Loss')\n",
    "plt.xlabel('Epochs')\n",
    "plt.xticks([0, 1, 2, 3, 4])\n",
    "plt.legend(['Training', 'Validation'], loc = 'center right')\n",
    "# Create text box of loss to add to plot\n",
    "text_box = AnchoredText(f\"Loss: {loss:.4f}\", frameon = False, loc = 'upper right', pad = 0.5)\n",
    "plt.setp(text_box.patch, facecolor = 'white', alpha = 0.5)\n",
    "ax.add_artist(text_box)\n",
    "plt.show();"
   ]
  },
  {
   "cell_type": "code",
   "execution_count": 40,
   "metadata": {},
   "outputs": [],
   "source": [
    "# Hypertuning baseline model structure\n",
    "def build_model(hp):\n",
    "    model = Sequential()\n",
    "\n",
    "    model.add(tf.keras.Input(shape = (1,), dtype = tf.string))\n",
    "    \n",
    "    model.add(vectorizer)\n",
    "    \n",
    "    model.add(Embedding(\n",
    "        num_tokens, # kw (or voc) + 2\n",
    "        embedding_dim, # 100 dimension matrix\n",
    "        input_length = max_len, # size of the padded sequence\n",
    "        embeddings_initializer = keras.initializers.Constant(embedding_matrix), # intialize based on your embedding matrix\n",
    "        trainable = False # set to false so you don't update embedding during training\n",
    "    ))\n",
    "    \n",
    "    model.add(Conv1D(\n",
    "        hp.Choice('filters', [64, 128, 256]),\n",
    "        hp.Choice('kernel_size', [3, 4, 5]),\n",
    "        strides = 1, \n",
    "        activation = 'relu',\n",
    "        padding = 'same'\n",
    "        ))\n",
    "    \n",
    "    model.add(MaxPooling1D(hp.Choice('pool_size', [2, 4])))\n",
    "    \n",
    "    model.add(LSTM(\n",
    "        hp.Choice('units', [16, 32, 64])\n",
    "    ))\n",
    "    \n",
    "    model.add(Dense(1, \n",
    "        hp.Choice('activation', ['sigmoid', 'relu', 'linear'])\n",
    "    ))\n",
    "    \n",
    "    model.compile(\n",
    "        optimizer = Adam(hp.Choice('learning_rate', [5e-1, 1e-1, 1e-2, 1e-3, 1e-4])),\n",
    "        loss = 'binary_crossentropy', \n",
    "        metrics = ['accuracy']\n",
    "    )\n",
    "    \n",
    "    return model\n"
   ]
  },
  {
   "cell_type": "code",
   "execution_count": 45,
   "metadata": {},
   "outputs": [],
   "source": [
    "# Initialize RandomSearch tuner for hyperparameter fine-tuning\n",
    "tuner = kt.RandomSearch(\n",
    "    build_model,\n",
    "    overwrite = True,\n",
    "    objective = 'val_accuracy', # metric to select best models by\n",
    "    max_trials = 15,  # number of different models to try\n",
    "    directory = 'group project'\n",
    "    )"
   ]
  },
  {
   "cell_type": "code",
   "execution_count": 46,
   "metadata": {},
   "outputs": [
    {
     "name": "stdout",
     "output_type": "stream",
     "text": [
      "Trial 15 Complete [00h 06m 44s]\n",
      "val_accuracy: 0.9372009038925171\n",
      "\n",
      "Best val_accuracy So Far: 0.9974319934844971\n",
      "Total elapsed time: 01h 44m 31s\n",
      "INFO:tensorflow:Oracle triggered exit\n"
     ]
    },
    {
     "data": {
      "text/plain": [
       "<keras.engine.sequential.Sequential at 0x26a07b21070>"
      ]
     },
     "execution_count": 46,
     "metadata": {},
     "output_type": "execute_result"
    }
   ],
   "source": [
    "# Start the search and get the best model\n",
    "tuner.search(train_data, train_target, epochs = 5, validation_data = (test_data, test_target))\n",
    "tuner.get_best_models()[0]"
   ]
  },
  {
   "cell_type": "code",
   "execution_count": 47,
   "metadata": {},
   "outputs": [],
   "source": [
    "# Store optimal hyperparameter values\n",
    "best_hp = tuner.get_best_hyperparameters()[0]"
   ]
  },
  {
   "cell_type": "code",
   "execution_count": 48,
   "metadata": {},
   "outputs": [
    {
     "name": "stdout",
     "output_type": "stream",
     "text": [
      "Model: \"sequential\"\n",
      "_________________________________________________________________\n",
      " Layer (type)                Output Shape              Param #   \n",
      "=================================================================\n",
      " text_vectorization (TextVec  (None, 300)              0         \n",
      " torization)                                                     \n",
      "                                                                 \n",
      " embedding (Embedding)       (None, 300, 100)          20200     \n",
      "                                                                 \n",
      " conv1d_1 (Conv1D)           (None, 300, 128)          64128     \n",
      "                                                                 \n",
      " max_pooling1d (MaxPooling1D  (None, 150, 128)         0         \n",
      " )                                                               \n",
      "                                                                 \n",
      " lstm (LSTM)                 (None, 32)                20608     \n",
      "                                                                 \n",
      " dense (Dense)               (None, 1)                 33        \n",
      "                                                                 \n",
      "=================================================================\n",
      "Total params: 104,969\n",
      "Trainable params: 84,769\n",
      "Non-trainable params: 20,200\n",
      "_________________________________________________________________\n"
     ]
    }
   ],
   "source": [
    "# Build the model with the optimal hyperparameters\n",
    "optimal_model = tuner.hypermodel.build(best_hp)\n",
    "model.summary()"
   ]
  },
  {
   "cell_type": "code",
   "execution_count": 49,
   "metadata": {},
   "outputs": [],
   "source": [
    "# Save model weights while fitting baseline model on training data\n",
    "filepath = \"hypertuned_weights_cnn-rnn.tf\"\n",
    "checkpoint = ModelCheckpoint(filepath, monitor = 'val_accuracy', verbose = 1, save_best_only = True, mode = 'max', save_weights_only = True)\n",
    "callbacks_list = [checkpoint]"
   ]
  },
  {
   "cell_type": "code",
   "execution_count": 50,
   "metadata": {},
   "outputs": [
    {
     "name": "stdout",
     "output_type": "stream",
     "text": [
      "Epoch 1/10\n",
      "536/536 [==============================] - ETA: 0s - loss: 0.0241 - accuracy: 0.9957\n",
      "Epoch 1: val_accuracy improved from -inf to 0.99615, saving model to hypertuned_weights_cnn-rnn.tf\n",
      "536/536 [==============================] - 63s 117ms/step - loss: 0.0241 - accuracy: 0.9957 - val_loss: 0.0218 - val_accuracy: 0.9961\n",
      "Epoch 2/10\n",
      "536/536 [==============================] - ETA: 0s - loss: 0.0215 - accuracy: 0.9961\n",
      "Epoch 2: val_accuracy did not improve from 0.99615\n",
      "536/536 [==============================] - 66s 123ms/step - loss: 0.0215 - accuracy: 0.9961 - val_loss: 0.0228 - val_accuracy: 0.9960\n",
      "Epoch 3/10\n",
      "536/536 [==============================] - ETA: 0s - loss: 0.0199 - accuracy: 0.9966\n",
      "Epoch 3: val_accuracy did not improve from 0.99615\n",
      "536/536 [==============================] - 67s 124ms/step - loss: 0.0199 - accuracy: 0.9966 - val_loss: 0.0326 - val_accuracy: 0.9936\n",
      "Epoch 4/10\n",
      "536/536 [==============================] - ETA: 0s - loss: 0.0167 - accuracy: 0.9969\n",
      "Epoch 4: val_accuracy improved from 0.99615 to 0.99767, saving model to hypertuned_weights_cnn-rnn.tf\n",
      "536/536 [==============================] - 66s 124ms/step - loss: 0.0167 - accuracy: 0.9969 - val_loss: 0.0121 - val_accuracy: 0.9977\n",
      "Epoch 5/10\n",
      "536/536 [==============================] - ETA: 0s - loss: 0.0160 - accuracy: 0.9968\n",
      "Epoch 5: val_accuracy did not improve from 0.99767\n",
      "536/536 [==============================] - 63s 118ms/step - loss: 0.0160 - accuracy: 0.9968 - val_loss: 0.0129 - val_accuracy: 0.9974\n",
      "Epoch 6/10\n",
      "536/536 [==============================] - ETA: 0s - loss: 0.0178 - accuracy: 0.9964\n",
      "Epoch 6: val_accuracy improved from 0.99767 to 0.99790, saving model to hypertuned_weights_cnn-rnn.tf\n",
      "536/536 [==============================] - 71s 132ms/step - loss: 0.0178 - accuracy: 0.9964 - val_loss: 0.0122 - val_accuracy: 0.9979\n",
      "Epoch 7/10\n",
      "536/536 [==============================] - ETA: 0s - loss: 0.0199 - accuracy: 0.9961\n",
      "Epoch 7: val_accuracy did not improve from 0.99790\n",
      "536/536 [==============================] - 68s 127ms/step - loss: 0.0199 - accuracy: 0.9961 - val_loss: 0.0162 - val_accuracy: 0.9973\n",
      "Epoch 8/10\n",
      "536/536 [==============================] - ETA: 0s - loss: 0.0150 - accuracy: 0.9974\n",
      "Epoch 8: val_accuracy did not improve from 0.99790\n",
      "536/536 [==============================] - 69s 129ms/step - loss: 0.0150 - accuracy: 0.9974 - val_loss: 0.0127 - val_accuracy: 0.9975\n",
      "Epoch 9/10\n",
      "536/536 [==============================] - ETA: 0s - loss: 0.0126 - accuracy: 0.9980\n",
      "Epoch 9: val_accuracy improved from 0.99790 to 0.99825, saving model to hypertuned_weights_cnn-rnn.tf\n",
      "536/536 [==============================] - 69s 128ms/step - loss: 0.0126 - accuracy: 0.9980 - val_loss: 0.0106 - val_accuracy: 0.9982\n",
      "Epoch 10/10\n",
      "536/536 [==============================] - ETA: 0s - loss: 0.0110 - accuracy: 0.9980\n",
      "Epoch 10: val_accuracy improved from 0.99825 to 0.99848, saving model to hypertuned_weights_cnn-rnn.tf\n",
      "536/536 [==============================] - 71s 132ms/step - loss: 0.0110 - accuracy: 0.9980 - val_loss: 0.0094 - val_accuracy: 0.9985\n"
     ]
    }
   ],
   "source": [
    "# Fit the optimized model on training data\n",
    "optimal_history = model.fit(train_data, \n",
    "    train_target, \n",
    "    epochs = 10, \n",
    "    batch_size = 64, \n",
    "    verbose = 1, \n",
    "    callbacks = callbacks_list, \n",
    "    validation_data = (test_data, test_target)\n",
    ")"
   ]
  },
  {
   "cell_type": "code",
   "execution_count": 51,
   "metadata": {},
   "outputs": [
    {
     "name": "stdout",
     "output_type": "stream",
     "text": [
      "CNN-RNN hybrid hyptertuned model accuracy using top 200 words, an n-gram range of (1, 2),\n",
      "and padded length 300 is: 99.85%\n"
     ]
    }
   ],
   "source": [
    "# Evaluate the optimized model \n",
    "optimal_scores = model.evaluate(test_data, test_target, verbose = 0)\n",
    "optimal_accuracy = (optimal_scores[1]*100)\n",
    "optimal_loss = (optimal_scores[0])\n",
    "print(f\"CNN-RNN hybrid hyptertuned model accuracy using top {key_words} words, an n-gram range of {n_grams},\\nand padded length {max_len} is: {optimal_accuracy:.2f}%\")"
   ]
  },
  {
   "cell_type": "code",
   "execution_count": 63,
   "metadata": {},
   "outputs": [
    {
     "name": "stdout",
     "output_type": "stream",
     "text": [
      "Results summary\n",
      "Results in group project\\untitled_project\n",
      "Showing 2 best trials\n",
      "<keras_tuner.engine.objective.Objective object at 0x0000026A06CE5A00>\n",
      "Trial summary\n",
      "Hyperparameters:\n",
      "filters: 256\n",
      "kernel_size: 3\n",
      "pool_size: 2\n",
      "units: 64\n",
      "activation: sigmoid\n",
      "learning_rate: 0.001\n",
      "Score: 0.9974319934844971\n",
      "Trial summary\n",
      "Hyperparameters:\n",
      "filters: 64\n",
      "kernel_size: 5\n",
      "pool_size: 4\n",
      "units: 64\n",
      "activation: linear\n",
      "learning_rate: 0.01\n",
      "Score: 0.996498167514801\n"
     ]
    }
   ],
   "source": [
    "# Compare hyptertuning summaries for best 2 trials. \n",
    "tuner.results_summary(2)"
   ]
  },
  {
   "cell_type": "code",
   "execution_count": 66,
   "metadata": {},
   "outputs": [
    {
     "data": {
      "image/png": "[encoded data removed]",
      "text/plain": [
       "<Figure size 432x288 with 1 Axes>"
      ]
     },
     "metadata": {
      "needs_background": "light"
     },
     "output_type": "display_data"
    }
   ],
   "source": [
    "# Training and validation accuracy - optimized model\n",
    "fig, ax = plt.subplots()\n",
    "plt.plot(optimal_history.history['accuracy']) # training accuracy\n",
    "plt.plot(optimal_history.history['val_accuracy']) # validation accuracy\n",
    "plt.title(f'Accuracy: CNN-RNN Optimized Model\\n{n_grams} range, {key_words} key words, and {max_len} length sequence')\n",
    "plt.legend(['Training', 'Validation'], loc = 'center right')\n",
    "plt.ylabel('Accuracy')\n",
    "plt.xlabel('Epochs')\n",
    "plt.xticks([0, 2, 4, 6, 8])\n",
    "# Create text box of accuracy to add to plot\n",
    "text_box = AnchoredText(f\"Accuracy: {optimal_accuracy:.2f}%\", frameon = False, loc = 'lower right', pad = 0.5)\n",
    "plt.setp(text_box.patch, facecolor = 'white', alpha = 0.5)\n",
    "ax.add_artist(text_box)\n",
    "plt.show();"
   ]
  },
  {
   "cell_type": "code",
   "execution_count": 67,
   "metadata": {},
   "outputs": [
    {
     "data": {
      "image/png": "[encoded data removed]",
      "text/plain": [
       "<Figure size 432x288 with 1 Axes>"
      ]
     },
     "metadata": {
      "needs_background": "light"
     },
     "output_type": "display_data"
    }
   ],
   "source": [
    "# Training and validation loss - optimized model\n",
    "fig, ax = plt.subplots()\n",
    "plt.plot(optimal_history.history['loss']) # training accuracy\n",
    "plt.plot(optimal_history.history['val_loss']) # validation accuracy\n",
    "plt.title(f'Loss: CNN-RNN Optimized Model\\n{n_grams} range, {key_words} key words, and {max_len} length sequence') \n",
    "plt.ylabel('Loss')\n",
    "plt.xlabel('Epochs')\n",
    "plt.xticks([0, 2, 4, 6, 8])\n",
    "plt.legend(['Training', 'Validation'], loc = 'center right')\n",
    "# Create text box of loss to add to plot\n",
    "text_box = AnchoredText(f\"Loss: {optimal_loss:.4f}\", frameon = False, loc = 'upper right', pad = 0.5)\n",
    "plt.setp(text_box.patch, facecolor = 'white', alpha = 0.5)\n",
    "ax.add_artist(text_box)\n",
    "plt.show();"
   ]
  }
 ],
 "metadata": {
  "kernelspec": {
   "display_name": "Python 3.9.7 ('base')",
   "language": "python",
   "name": "python3"
  },
  "language_info": {
   "codemirror_mode": {
    "name": "ipython",
    "version": 3
   },
   "file_extension": ".py",
   "mimetype": "text/x-python",
   "name": "python",
   "nbconvert_exporter": "python",
   "pygments_lexer": "ipython3",
   "version": "3.9.7"
  },
  "orig_nbformat": 4,
  "vscode": {
   "interpreter": {
    "hash": "bb41745365b0f6cd342db2064230ca33a3bbb95e73a9c1a8b502f45a833dbf8f"
   }
  }
 },
 "nbformat": 4,
 "nbformat_minor": 2
}
